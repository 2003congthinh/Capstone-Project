{
 "cells": [
  {
   "cell_type": "code",
   "execution_count": null,
   "id": "54eb7cb0",
   "metadata": {},
   "outputs": [],
   "source": [
    "import os\n",
    "import glob\n",
    "import time\n",
    "import numpy as np\n",
    "import pandas as pd\n",
    "import seaborn as sn\n",
    "import datetime as dt\n",
    "import tensorflow as tf\n",
    "import matplotlib.pyplot as plt\n",
    "\n",
    "from joblib import dump, load\n",
    "from os import path\n",
    "from tensorflow import keras\n",
    "from keras import layers, models, callbacks, optimizers\n",
    "from matplotlib.pyplot import *\n",
    "from keras.models import Sequential\n",
    "from sklearn.model_selection import train_test_split\n",
    "from keras.layers import Input, Dense, Dropout, Flatten, Convolution1D, UpSampling1D, MaxPooling1D\n",
    "from sklearn.preprocessing import OneHotEncoder, StandardScaler, LabelEncoder, label_binarize\n",
    "from sklearn import metrics\n",
    "from sklearn.metrics import confusion_matrix, precision_score, recall_score, accuracy_score, f1_score, multilabel_confusion_matrix\n",
    "\n",
    "import warnings\n",
    "warnings.simplefilter(action='ignore', category=FutureWarning)\n",
    "warnings.simplefilter(action='ignore', category=DeprecationWarning)"
   ]
  },
  {
   "cell_type": "code",
   "execution_count": 6,
   "id": "f3fbe3e7",
   "metadata": {},
   "outputs": [],
   "source": [
    "# python.exe -m pip install --upgrade pip"
   ]
  },
  {
   "cell_type": "code",
   "execution_count": 7,
   "id": "9974e1df",
   "metadata": {},
   "outputs": [
    {
     "name": "stdout",
     "output_type": "stream",
     "text": [
      "Num GPUs Available:  0\n"
     ]
    }
   ],
   "source": [
    "print(\"Num GPUs Available: \", len(tf.config.list_physical_devices('GPU')))"
   ]
  },
  {
   "cell_type": "code",
   "execution_count": 8,
   "id": "54ada207",
   "metadata": {},
   "outputs": [
    {
     "name": "stdout",
     "output_type": "stream",
     "text": [
      "Read Completed for  C:/Users/ADMIN/Desktop/code_folders/Capstone_Project/CIC-IDS/CSV-2023/MERGED_CSV\\Merged01.csv\n",
      "Read Completed for  C:/Users/ADMIN/Desktop/code_folders/Capstone_Project/CIC-IDS/CSV-2023/MERGED_CSV\\Merged02.csv\n",
      "Read Completed for  C:/Users/ADMIN/Desktop/code_folders/Capstone_Project/CIC-IDS/CSV-2023/MERGED_CSV\\Merged03.csv\n",
      "Read Completed for  C:/Users/ADMIN/Desktop/code_folders/Capstone_Project/CIC-IDS/CSV-2023/MERGED_CSV\\Merged04.csv\n",
      "Read Completed for  C:/Users/ADMIN/Desktop/code_folders/Capstone_Project/CIC-IDS/CSV-2023/MERGED_CSV\\Merged05.csv\n",
      "Read Completed for  C:/Users/ADMIN/Desktop/code_folders/Capstone_Project/CIC-IDS/CSV-2023/MERGED_CSV\\Merged06.csv\n",
      "Read Completed for  C:/Users/ADMIN/Desktop/code_folders/Capstone_Project/CIC-IDS/CSV-2023/MERGED_CSV\\Merged07.csv\n",
      "Read Completed for  C:/Users/ADMIN/Desktop/code_folders/Capstone_Project/CIC-IDS/CSV-2023/MERGED_CSV\\Merged08.csv\n",
      "Read Completed for  C:/Users/ADMIN/Desktop/code_folders/Capstone_Project/CIC-IDS/CSV-2023/MERGED_CSV\\Merged09.csv\n",
      "Read Completed for  C:/Users/ADMIN/Desktop/code_folders/Capstone_Project/CIC-IDS/CSV-2023/MERGED_CSV\\Merged10.csv\n",
      "Read Completed for  C:/Users/ADMIN/Desktop/code_folders/Capstone_Project/CIC-IDS/CSV-2023/MERGED_CSV\\Merged11.csv\n",
      "Read Completed for  C:/Users/ADMIN/Desktop/code_folders/Capstone_Project/CIC-IDS/CSV-2023/MERGED_CSV\\Merged12.csv\n",
      "Read Completed for  C:/Users/ADMIN/Desktop/code_folders/Capstone_Project/CIC-IDS/CSV-2023/MERGED_CSV\\Merged13.csv\n",
      "Read Completed for  C:/Users/ADMIN/Desktop/code_folders/Capstone_Project/CIC-IDS/CSV-2023/MERGED_CSV\\Merged14.csv\n",
      "Read Completed for  C:/Users/ADMIN/Desktop/code_folders/Capstone_Project/CIC-IDS/CSV-2023/MERGED_CSV\\Merged15.csv\n",
      "Read Completed for  C:/Users/ADMIN/Desktop/code_folders/Capstone_Project/CIC-IDS/CSV-2023/MERGED_CSV\\Merged16.csv\n",
      "Read Completed for  C:/Users/ADMIN/Desktop/code_folders/Capstone_Project/CIC-IDS/CSV-2023/MERGED_CSV\\Merged17.csv\n",
      "Read Completed for  C:/Users/ADMIN/Desktop/code_folders/Capstone_Project/CIC-IDS/CSV-2023/MERGED_CSV\\Merged18.csv\n",
      "Read Completed for  C:/Users/ADMIN/Desktop/code_folders/Capstone_Project/CIC-IDS/CSV-2023/MERGED_CSV\\Merged19.csv\n",
      "Read Completed for  C:/Users/ADMIN/Desktop/code_folders/Capstone_Project/CIC-IDS/CSV-2023/MERGED_CSV\\Merged20.csv\n",
      "Read Completed for  C:/Users/ADMIN/Desktop/code_folders/Capstone_Project/CIC-IDS/CSV-2023/MERGED_CSV\\Merged21.csv\n",
      "Read Completed for  C:/Users/ADMIN/Desktop/code_folders/Capstone_Project/CIC-IDS/CSV-2023/MERGED_CSV\\Merged22.csv\n",
      "Read Completed for  C:/Users/ADMIN/Desktop/code_folders/Capstone_Project/CIC-IDS/CSV-2023/MERGED_CSV\\Merged23.csv\n",
      "Read Completed for  C:/Users/ADMIN/Desktop/code_folders/Capstone_Project/CIC-IDS/CSV-2023/MERGED_CSV\\Merged24.csv\n",
      "Read Completed for  C:/Users/ADMIN/Desktop/code_folders/Capstone_Project/CIC-IDS/CSV-2023/MERGED_CSV\\Merged25.csv\n",
      "Read Completed for  C:/Users/ADMIN/Desktop/code_folders/Capstone_Project/CIC-IDS/CSV-2023/MERGED_CSV\\Merged26.csv\n",
      "Read Completed for  C:/Users/ADMIN/Desktop/code_folders/Capstone_Project/CIC-IDS/CSV-2023/MERGED_CSV\\Merged27.csv\n",
      "Read Completed for  C:/Users/ADMIN/Desktop/code_folders/Capstone_Project/CIC-IDS/CSV-2023/MERGED_CSV\\Merged28.csv\n",
      "Read Completed for  C:/Users/ADMIN/Desktop/code_folders/Capstone_Project/CIC-IDS/CSV-2023/MERGED_CSV\\Merged29.csv\n",
      "Read Completed for  C:/Users/ADMIN/Desktop/code_folders/Capstone_Project/CIC-IDS/CSV-2023/MERGED_CSV\\Merged30.csv\n",
      "Read Completed for  C:/Users/ADMIN/Desktop/code_folders/Capstone_Project/CIC-IDS/CSV-2023/MERGED_CSV\\Merged31.csv\n",
      "Read Completed for  C:/Users/ADMIN/Desktop/code_folders/Capstone_Project/CIC-IDS/CSV-2023/MERGED_CSV\\Merged32.csv\n",
      "Read Completed for  C:/Users/ADMIN/Desktop/code_folders/Capstone_Project/CIC-IDS/CSV-2023/MERGED_CSV\\Merged33.csv\n",
      "Read Completed for  C:/Users/ADMIN/Desktop/code_folders/Capstone_Project/CIC-IDS/CSV-2023/MERGED_CSV\\Merged34.csv\n",
      "Read Completed for  C:/Users/ADMIN/Desktop/code_folders/Capstone_Project/CIC-IDS/CSV-2023/MERGED_CSV\\Merged35.csv\n",
      "Read Completed for  C:/Users/ADMIN/Desktop/code_folders/Capstone_Project/CIC-IDS/CSV-2023/MERGED_CSV\\Merged36.csv\n",
      "Read Completed for  C:/Users/ADMIN/Desktop/code_folders/Capstone_Project/CIC-IDS/CSV-2023/MERGED_CSV\\Merged37.csv\n",
      "Read Completed for  C:/Users/ADMIN/Desktop/code_folders/Capstone_Project/CIC-IDS/CSV-2023/MERGED_CSV\\Merged38.csv\n",
      "Read Completed for  C:/Users/ADMIN/Desktop/code_folders/Capstone_Project/CIC-IDS/CSV-2023/MERGED_CSV\\Merged39.csv\n",
      "Read Completed for  C:/Users/ADMIN/Desktop/code_folders/Capstone_Project/CIC-IDS/CSV-2023/MERGED_CSV\\Merged40.csv\n",
      "Read Completed for  C:/Users/ADMIN/Desktop/code_folders/Capstone_Project/CIC-IDS/CSV-2023/MERGED_CSV\\Merged41.csv\n",
      "Read Completed for  C:/Users/ADMIN/Desktop/code_folders/Capstone_Project/CIC-IDS/CSV-2023/MERGED_CSV\\Merged42.csv\n",
      "Read Completed for  C:/Users/ADMIN/Desktop/code_folders/Capstone_Project/CIC-IDS/CSV-2023/MERGED_CSV\\Merged43.csv\n",
      "Read Completed for  C:/Users/ADMIN/Desktop/code_folders/Capstone_Project/CIC-IDS/CSV-2023/MERGED_CSV\\Merged44.csv\n",
      "Read Completed for  C:/Users/ADMIN/Desktop/code_folders/Capstone_Project/CIC-IDS/CSV-2023/MERGED_CSV\\Merged45.csv\n",
      "Read Completed for  C:/Users/ADMIN/Desktop/code_folders/Capstone_Project/CIC-IDS/CSV-2023/MERGED_CSV\\Merged46.csv\n",
      "Read Completed for  C:/Users/ADMIN/Desktop/code_folders/Capstone_Project/CIC-IDS/CSV-2023/MERGED_CSV\\Merged47.csv\n",
      "Read Completed for  C:/Users/ADMIN/Desktop/code_folders/Capstone_Project/CIC-IDS/CSV-2023/MERGED_CSV\\Merged48.csv\n",
      "Read Completed for  C:/Users/ADMIN/Desktop/code_folders/Capstone_Project/CIC-IDS/CSV-2023/MERGED_CSV\\Merged49.csv\n",
      "Read Completed for  C:/Users/ADMIN/Desktop/code_folders/Capstone_Project/CIC-IDS/CSV-2023/MERGED_CSV\\Merged50.csv\n",
      "Read Completed for  C:/Users/ADMIN/Desktop/code_folders/Capstone_Project/CIC-IDS/CSV-2023/MERGED_CSV\\Merged51.csv\n",
      "Read Completed for  C:/Users/ADMIN/Desktop/code_folders/Capstone_Project/CIC-IDS/CSV-2023/MERGED_CSV\\Merged52.csv\n",
      "Read Completed for  C:/Users/ADMIN/Desktop/code_folders/Capstone_Project/CIC-IDS/CSV-2023/MERGED_CSV\\Merged53.csv\n",
      "Read Completed for  C:/Users/ADMIN/Desktop/code_folders/Capstone_Project/CIC-IDS/CSV-2023/MERGED_CSV\\Merged54.csv\n",
      "Read Completed for  C:/Users/ADMIN/Desktop/code_folders/Capstone_Project/CIC-IDS/CSV-2023/MERGED_CSV\\Merged55.csv\n",
      "Read Completed for  C:/Users/ADMIN/Desktop/code_folders/Capstone_Project/CIC-IDS/CSV-2023/MERGED_CSV\\Merged56.csv\n",
      "Read Completed for  C:/Users/ADMIN/Desktop/code_folders/Capstone_Project/CIC-IDS/CSV-2023/MERGED_CSV\\Merged57.csv\n",
      "Read Completed for  C:/Users/ADMIN/Desktop/code_folders/Capstone_Project/CIC-IDS/CSV-2023/MERGED_CSV\\Merged58.csv\n",
      "Read Completed for  C:/Users/ADMIN/Desktop/code_folders/Capstone_Project/CIC-IDS/CSV-2023/MERGED_CSV\\Merged59.csv\n",
      "Read Completed for  C:/Users/ADMIN/Desktop/code_folders/Capstone_Project/CIC-IDS/CSV-2023/MERGED_CSV\\Merged60.csv\n",
      "Read Completed for  C:/Users/ADMIN/Desktop/code_folders/Capstone_Project/CIC-IDS/CSV-2023/MERGED_CSV\\Merged61.csv\n",
      "Read Completed for  C:/Users/ADMIN/Desktop/code_folders/Capstone_Project/CIC-IDS/CSV-2023/MERGED_CSV\\Merged62.csv\n",
      "Read Completed for  C:/Users/ADMIN/Desktop/code_folders/Capstone_Project/CIC-IDS/CSV-2023/MERGED_CSV\\Merged63.csv\n",
      "<class 'pandas.core.frame.DataFrame'>\n",
      "RangeIndex: 45019243 entries, 0 to 45019242\n",
      "Data columns (total 40 columns):\n",
      " #   Column           Dtype  \n",
      "---  ------           -----  \n",
      " 0   Header_Length    float64\n",
      " 1   Protocol Type    int64  \n",
      " 2   Time_To_Live     float64\n",
      " 3   Rate             float64\n",
      " 4   fin_flag_number  float64\n",
      " 5   syn_flag_number  float64\n",
      " 6   rst_flag_number  float64\n",
      " 7   psh_flag_number  float64\n",
      " 8   ack_flag_number  float64\n",
      " 9   ece_flag_number  float64\n",
      " 10  cwr_flag_number  float64\n",
      " 11  ack_count        float64\n",
      " 12  syn_count        float64\n",
      " 13  fin_count        float64\n",
      " 14  rst_count        float64\n",
      " 15  HTTP             float64\n",
      " 16  HTTPS            float64\n",
      " 17  DNS              float64\n",
      " 18  Telnet           float64\n",
      " 19  SMTP             float64\n",
      " 20  SSH              float64\n",
      " 21  IRC              float64\n",
      " 22  TCP              float64\n",
      " 23  UDP              float64\n",
      " 24  DHCP             float64\n",
      " 25  ARP              float64\n",
      " 26  ICMP             float64\n",
      " 27  IGMP             float64\n",
      " 28  IPv              float64\n",
      " 29  LLC              float64\n",
      " 30  Tot sum          float64\n",
      " 31  Min              float64\n",
      " 32  Max              float64\n",
      " 33  AVG              float64\n",
      " 34  Std              float64\n",
      " 35  Tot size         float64\n",
      " 36  IAT              float64\n",
      " 37  Number           float64\n",
      " 38  Variance         float64\n",
      " 39  Label            object \n",
      "dtypes: float64(38), int64(1), object(1)\n",
      "memory usage: 13.4+ GB\n"
     ]
    }
   ],
   "source": [
    "# full dataset\n",
    "path = r'C:/Users/ADMIN/Desktop/code_folders/Capstone_Project/CIC-IDS/CSV-2023/MERGED_CSV'\n",
    "all_files = glob.glob(path + \"/*.csv\")\n",
    "li = []\n",
    "for filename in all_files:\n",
    "    df = pd.read_csv(filename, encoding='cp1252', index_col=None, header=0)\n",
    "    li.append(df)\n",
    "    print(\"Read Completed for \", filename)\n",
    "df = pd.concat(li, axis=0, ignore_index=True)\n",
    "df.describe()\n",
    "df.head()\n",
    "df.info()"
   ]
  },
  {
   "cell_type": "code",
   "execution_count": 9,
   "id": "6af37797",
   "metadata": {},
   "outputs": [
    {
     "name": "stdout",
     "output_type": "stream",
     "text": [
      "Index(['Header_Length', 'Protocol Type', 'Time_To_Live', 'Rate',\n",
      "       'fin_flag_number', 'syn_flag_number', 'rst_flag_number',\n",
      "       'psh_flag_number', 'ack_flag_number', 'ece_flag_number',\n",
      "       'cwr_flag_number', 'ack_count', 'syn_count', 'fin_count', 'rst_count',\n",
      "       'HTTP', 'HTTPS', 'DNS', 'Telnet', 'SMTP', 'SSH', 'IRC', 'TCP', 'UDP',\n",
      "       'DHCP', 'ARP', 'ICMP', 'IGMP', 'IPv', 'LLC', 'Tot sum', 'Min', 'Max',\n",
      "       'AVG', 'Std', 'Tot size', 'IAT', 'Number', 'Variance', 'Label'],\n",
      "      dtype='object')\n",
      "Label\n",
      "DDOS-ICMP_FLOOD            6893259\n",
      "DDOS-UDP_FLOOD             5181027\n",
      "DDOS-TCP_FLOOD             4306086\n",
      "DDOS-PSHACK_FLOOD          3920372\n",
      "DDOS-SYN_FLOOD             3886130\n",
      "DDOS-RSTFINFLOOD           3872808\n",
      "DDOS-SYNONYMOUSIP_FLOOD    3445659\n",
      "DOS-UDP_FLOOD              3177323\n",
      "DOS-TCP_FLOOD              2558256\n",
      "DOS-SYN_FLOOD              1942176\n",
      "BENIGN                     1051373\n",
      "MIRAI-GREETH_FLOOD          949381\n",
      "MIRAI-UDPPLAIN              852695\n",
      "MIRAI-GREIP_FLOOD           719655\n",
      "DDOS-ICMP_FRAGMENTATION     433157\n",
      "VULNERABILITYSCAN           357583\n",
      "MITM-ARPSPOOFING            294469\n",
      "DDOS-UDP_FRAGMENTATION      274909\n",
      "DDOS-ACK_FRAGMENTATION      272793\n",
      "DNS_SPOOFING                171468\n",
      "RECON-HOSTDISCOVERY         128677\n",
      "RECON-OSSCAN                 93970\n",
      "RECON-PORTSCAN               78730\n",
      "DOS-HTTP_FLOOD               68799\n",
      "DDOS-HTTP_FLOOD              27597\n",
      "DDOS-SLOWLORIS               22400\n",
      "DICTIONARYBRUTEFORCE         12522\n",
      "BROWSERHIJACKING              5630\n",
      "COMMANDINJECTION              5168\n",
      "SQLINJECTION                  5022\n",
      "XSS                           3705\n",
      "BACKDOOR_MALWARE              3078\n",
      "RECON-PINGSWEEP               2161\n",
      "UPLOADING_ATTACK              1196\n",
      "Name: count, dtype: int64\n",
      "(45019243, 40)\n"
     ]
    }
   ],
   "source": [
    "print(df.columns)\n",
    "print(df[\"Label\"].value_counts())\n",
    "print(df.shape)"
   ]
  },
  {
   "cell_type": "markdown",
   "id": "97f3d6f0",
   "metadata": {},
   "source": [
    "Many network intrusion datasets (like CICIoT2023) contain very specific attack names (e.g., 'DDoS-UDP_Flood', 'SqlInjection'). These are too granular for efficient model training and analysis, so we group them into broader categories, such as 'DDoS', 'DoS', 'Recon', etc.\n",
    "\n",
    "<h3> Why this is useful </h3>\n",
    "    <li> Reduces label complexity (from 30+ labels to ~6–7 categories).</li>\n",
    "    <li> Helps balance the dataset more evenly.</li>\n",
    "    <li> Simplifies the classification problem for your ML model.</li>\n",
    "\n",
    "<h3> Example: </h3>\n",
    "<p>If your original data had this:</p>\n",
    "<P>Label</p>\n",
    "<ul>\n",
    "    <li>DDoS-UDP_Flood</li>\n",
    "    <li>DDoS-ACK_Fragmentation</li>\n",
    "    <li>SqlInjection</li>\n",
    "</ul>\n",
    "\n",
    "<p>It will become:</p>\n",
    "<p>Label</p>\n",
    "<ul>\n",
    "    <li>DDoS</li>\n",
    "    <li>DDoS</li>\n",
    "    <li>Web_based</li>\n",
    "</ul>"
   ]
  },
  {
   "cell_type": "code",
   "execution_count": 10,
   "id": "37f64757",
   "metadata": {},
   "outputs": [
    {
     "name": "stdout",
     "output_type": "stream",
     "text": [
      "Label\n",
      "DDOS-ICMP_FLOOD            6893259\n",
      "DDOS-UDP_FLOOD             5181027\n",
      "DDOS-TCP_FLOOD             4306086\n",
      "DDOS-PSHACK_FLOOD          3920372\n",
      "DDOS-SYN_FLOOD             3886130\n",
      "DDOS-RSTFINFLOOD           3872808\n",
      "DDOS-SYNONYMOUSIP_FLOOD    3445659\n",
      "DOS-UDP_FLOOD              3177323\n",
      "DOS-TCP_FLOOD              2558256\n",
      "DOS-SYN_FLOOD              1942176\n",
      "BENIGN                     1051373\n",
      "MIRAI-GREETH_FLOOD          949381\n",
      "MIRAI-UDPPLAIN              852695\n",
      "MIRAI-GREIP_FLOOD           719655\n",
      "DDOS-ICMP_FRAGMENTATION     433157\n",
      "VULNERABILITYSCAN           357583\n",
      "MITM-ARPSPOOFING            294469\n",
      "DDOS-UDP_FRAGMENTATION      274909\n",
      "DDOS-ACK_FRAGMENTATION      272793\n",
      "DNS_SPOOFING                171468\n",
      "RECON-HOSTDISCOVERY         128677\n",
      "RECON-OSSCAN                 93970\n",
      "RECON-PORTSCAN               78730\n",
      "DOS-HTTP_FLOOD               68799\n",
      "DDOS-HTTP_FLOOD              27597\n",
      "DDOS-SLOWLORIS               22400\n",
      "DICTIONARYBRUTEFORCE         12522\n",
      "BROWSERHIJACKING              5630\n",
      "COMMANDINJECTION              5168\n",
      "SQLINJECTION                  5022\n",
      "Web_based                     3705\n",
      "BACKDOOR_MALWARE              3078\n",
      "RECON-PINGSWEEP               2161\n",
      "UPLOADING_ATTACK              1196\n",
      "Name: count, dtype: int64\n",
      "(45019243, 40)\n"
     ]
    }
   ],
   "source": [
    "DDoS = ['DDoS-ACK_Fragmentation',     \n",
    "        'DDoS-UDP_Flood',       \n",
    "        'DDoS-SlowLoris',               \n",
    "        'DDoS-ICMP_Flood',        \n",
    "        'DDoS-RSTFIN_Flood',    \n",
    "        'DDoS-PSHACK_Flood',        \n",
    "        'DDoS-HTTP_Flood',              \n",
    "        'DDoS-UDP_Fragmentation',     \n",
    "        'DDoS-TCP_Flood',  \n",
    "        'DDoS-SYN_Flood',        \n",
    "        'DDoS-SynonymousIP_Flood',    \n",
    "        'DDoS-ICMP_Fragmentation']\n",
    "\n",
    "DoS = ['DoS-UDP_Flood',    \n",
    "       'DoS-TCP_Flood',    \n",
    "       'DoS-SYN_Flood',    \n",
    "       'DoS-HTTP_Flood']\n",
    "\n",
    "Spoofing = ['MITM-ArpSpoofing',     \n",
    "            'DNS_Spoofing']\n",
    "\n",
    "Brute_force = ['DictionaryBruteForce']\n",
    "\n",
    "Recon = ['Recon-HostDiscovery', \n",
    "         'Recon-OSScan',     \n",
    "         'Recon-PortScan',               \n",
    "         'Recon-PingSweep',         \n",
    "         'VulnerabilityScan']\n",
    "\n",
    "Web_based = ['SqlInjection',        \n",
    "             'BrowserHijacking',         \n",
    "             'CommandInjection',       \n",
    "             'XSS',         \n",
    "             'Backdoor_Malware',          \n",
    "             'Uploading_Attack']\n",
    "\n",
    "Mirai = ['Mirai-greeth_flood',     \n",
    "         'Mirai-udpplain',     \n",
    "         'Mirai-greip_flood']\n",
    "\n",
    "\n",
    "\n",
    "def classify_attacks(data):\n",
    "    data['Label'].replace(DDoS,'DDoS',inplace=True)\n",
    "    data['Label'].replace(DoS,'DoS',inplace=True)\n",
    "    data['Label'].replace(Spoofing,'Spoofing',inplace=True)\n",
    "    data['Label'].replace(Brute_force,'Brute_Force',inplace=True)\n",
    "    data['Label'].replace(Recon,'Recon',inplace=True)\n",
    "    data['Label'].replace(Web_based,'Web_based',inplace=True)\n",
    "    data['Label'].replace(Mirai,'Mirai',inplace=True)\n",
    "classify_attacks(df)\n",
    "\n",
    "print(df[\"Label\"].value_counts())\n",
    "print(df.shape)"
   ]
  },
  {
   "cell_type": "code",
   "execution_count": 11,
   "id": "92964f6c",
   "metadata": {},
   "outputs": [
    {
     "name": "stdout",
     "output_type": "stream",
     "text": [
      "Read 45018564 rows.\n",
      "(45018564, 42)\n",
      "Label\n",
      "6     6893203\n",
      "14    5180997\n",
      "13    4306058\n",
      "8     3920337\n",
      "12    3886105\n",
      "9     3872787\n",
      "11    3445630\n",
      "21    3177280\n",
      "20    2558232\n",
      "19    1942159\n",
      "1     1051313\n",
      "22     949325\n",
      "24     852632\n",
      "23     719604\n",
      "7      433115\n",
      "32     357579\n",
      "25     294451\n",
      "15     274881\n",
      "4      272767\n",
      "17     171463\n",
      "26     128676\n",
      "27      93966\n",
      "29      78729\n",
      "18      68798\n",
      "5       27597\n",
      "10      22399\n",
      "16      12522\n",
      "2        5630\n",
      "3        5168\n",
      "30       5021\n",
      "33       3705\n",
      "0        3078\n",
      "28       2161\n",
      "31       1196\n",
      "Name: count, dtype: int64\n"
     ]
    }
   ],
   "source": [
    "data_clean = df.dropna().reset_index()\n",
    "data_clean.drop_duplicates(keep='first', inplace = True)\n",
    "data_clean['Label'].value_counts()\n",
    "print(\"Read {} rows.\".format(len(data_clean)))\n",
    "\n",
    "data_clean.columns          # This just lists the column names in the data_clean DataFrame—helpful for debugging or inspection.\n",
    "data_clean = data_clean.dropna().reset_index()    # dropna() removes any rows that contain NaN (missing) values; reset_index() resets the row index after dropping, so it's clean and continuous.\n",
    "labelencoder = LabelEncoder()    # This creates a LabelEncoder from sklearn, which is used to convert string labels into integers\n",
    "data_clean['Label'] = labelencoder.fit_transform(data_clean['Label'])    # Encodes the string class labels into integer labels and replaces the original Label column with them.\n",
    "data_clean['Label'].value_counts()     # Shows how many samples exist for each class (now as numbers). This is useful to check for class imbalance.\n",
    "print(data_clean.shape)\n",
    "print(data_clean['Label'].value_counts())\n",
    "\n",
    "data_np = data_clean.to_numpy(dtype=\"float32\")      # Converts the entire DataFrame into a NumPy array with float32 data type—faster and more efficient for ML model input.\n",
    "#drop inf values\n",
    "data_np = data_np[~np.isinf(data_np).any(axis=1)]   # Removes any rows that have infinite values (inf) across any column. This ensures clean numeric data for training"
   ]
  },
  {
   "cell_type": "code",
   "execution_count": 12,
   "id": "0a0957c0",
   "metadata": {},
   "outputs": [],
   "source": [
    "rows = data_np.shape[0]\n",
    "limit = round(rows*80/100) # split the dataset into 2 part: 80% for train and val; 20% to test\n",
    "train_val = data_np[1:limit] \t\n",
    "\n",
    "test = data_np[limit:rows]"
   ]
  },
  {
   "cell_type": "code",
   "execution_count": 13,
   "id": "28594135",
   "metadata": {},
   "outputs": [
    {
     "name": "stdout",
     "output_type": "stream",
     "text": [
      "(36014593, 42)\n"
     ]
    }
   ],
   "source": [
    "print(train_val.shape)"
   ]
  },
  {
   "cell_type": "code",
   "execution_count": 14,
   "id": "10a2df5a",
   "metadata": {},
   "outputs": [],
   "source": [
    "X = train_val[:, :-1]       # This selects all features (columns except the last one)—i.e., your input data for the model.\n",
    "enc = OneHotEncoder()     # Initializes a OneHotEncoder which is used to encode integer class labels into one-hot encoded vectors.\n",
    "                          # For example: if i have [0, 1, 2], One-hot encoding becomes: [1,0,0]\n",
    "                                                                                       #[0,1,0]\n",
    "                                                                                       #[0,0,1]\n",
    "Y = enc.fit_transform(train_val[:, -1].reshape(-1, 1)).toarray()      # data_np[:, -1] gets the last column = labels (in integer form).\n",
    "                                                                    # reshape(-1, 1) reshapes it into a column vector.\n",
    "                                                                    # fit_transform(...) fits and transforms to one-hot encoded format.\n",
    "                                                                    # .toarray() converts it from sparse to dense array.\n",
    "\n",
    "                                                                    # Now Y contains labels in one-hot format, ready for training in multiclass classification models like neural networks.\n",
    "#  Final Result:\n",
    "#   X: Cleaned, scaled feature matrix.\n",
    "#   Y: One-hot encoded label matrix.\n",
    "#Ready to be split into training/testing and fed into models like CNN, LSTM, etc."
   ]
  },
  {
   "cell_type": "code",
   "execution_count": 15,
   "id": "6efde528",
   "metadata": {},
   "outputs": [],
   "source": [
    "X_test = test[:, :-1] \n",
    "enc = OneHotEncoder()\n",
    "\n",
    "Y_test = enc.fit_transform(test[:, -1].reshape(-1, 1)).toarray()\n",
    "# print(X_test)\n",
    "# print(Y_test)"
   ]
  },
  {
   "cell_type": "markdown",
   "id": "d13344f0",
   "metadata": {},
   "source": [
    "What it does:\n",
    "This scales (standardizes) your feature matrix X.\n",
    "Specifically:\n",
    "<ul>\n",
    "    <li>StandardScaler() creates an object that standardizes the features.\n",
    "    <li>Standardization means: for each feature/column in X, it will subtract the mean and divide by the standard deviation.\n",
    "</ul>\n",
    "Mathematically for each feature:\n",
    "\n",
    "𝑋_scaled = (𝑋 − mean(𝑋)) / std(𝑋)\n",
    " \n",
    "As a result:\n",
    "<ul>\n",
    "    <li>The new mean of each feature = 0.\n",
    "    <li>The new standard deviation of each feature = 1.\n",
    "</ul>\n",
    "\n",
    "Why StandardScale important?\n",
    "<ul>\n",
    "    <li>Machine Learning algorithms (especially neural networks) work better when input features are on the same scale.\n",
    "    <li>If features have very different scales (e.g., some from 0–1, some from 0–10,000), the model can struggle to converge or be biased toward features with larger numbers.\n",
    "    <li>Standardization makes gradient descent faster and model training more stable.\n",
    "</ul>\n",
    "\n",
    "In simple terms:\n",
    "<ul>\n",
    "    <li>Before: your features might look like [50, 10000, 3.2, 0.001]\n",
    "    <li>After StandardScaler: numbers become something like [0.12, 2.5, -1.0, -0.3]\n",
    "    <li>Now all features are centered around 0 and have similar ranges, which helps the model learn better!\n",
    "</ul>"
   ]
  },
  {
   "cell_type": "code",
   "execution_count": 16,
   "id": "997d1344",
   "metadata": {},
   "outputs": [],
   "source": [
    "scaler = StandardScaler()\n",
    "X_scaled = scaler.fit_transform(X)"
   ]
  },
  {
   "cell_type": "markdown",
   "id": "3b7a2088",
   "metadata": {},
   "source": [
    "<div>X_train = X_train.reshape(X_train.shape[0], _features, 1).astype('float32')\n",
    "<div>X_test = X_test.reshape(X_test.shape[0], _features, 1).astype('float32')\n",
    "<div></div>\n",
    "What it does:\n",
    "<ul>\n",
    "    <li>Reshapes the training and testing data.\n",
    "    <li>Originally X_train shape = (num_samples, num_features)\n",
    "    <li>After reshaping: (num_samples, num_features, 1)\n",
    "</ul>\n",
    "\n",
    "Why add this extra dimension?\n",
    "\n",
    "👉 Because you are feeding the data into a 1D Convolutional Neural Network (Conv1D), and Conv1D expects 3D input:\n",
    "\n",
    "(samples, features, channels)\n",
    "\n",
    "Here channels = 1 because your features are just single numbers, not multi-channel like RGB images (where channels = 3).\n",
    "Also, .astype('float32') just ensures the data type is correct (TensorFlow prefers float32).\n",
    "\n",
    "In simple words:\n",
    "<table>\n",
    "    <tr>\n",
    "        <th>Before</th>\n",
    "        <th>After</th>\n",
    "    </tr>\n",
    "    <tr>\n",
    "        <td>2D: (number of samples, number of features)</td>\n",
    "        <td>3D: (number of samples, number of features, 1 channel)</td>\n",
    "    </tr>\n",
    "</table>\n",
    "\n",
    "You split the data, prepare it for the neural network, and make sure the format is correct!"
   ]
  },
  {
   "cell_type": "code",
   "execution_count": 17,
   "id": "8f434bae",
   "metadata": {},
   "outputs": [],
   "source": [
    "# Split the data set into training and testing\n",
    "X_train, X_val, Y_train, Y_val = train_test_split(\n",
    "    X_scaled, Y, test_size=0.25, random_state=33, shuffle=True)\n",
    "\n",
    "_features = X.shape[1]  # _features stores how many input features there are (i.e., the number of columns in X).\n",
    "n_classes = Y.shape[1]  # n_classes stores how many output classes there are (i.e., how many unique categories in Y after one-hot encoding).\n",
    "\n",
    "X_train = X_train.reshape(X_train.shape[0], _features, 1).astype('float32')\n",
    "X_val = X_val.reshape(X_val.shape[0], _features, 1).astype('float32')"
   ]
  },
  {
   "cell_type": "code",
   "execution_count": 18,
   "id": "659cb4e4",
   "metadata": {},
   "outputs": [],
   "source": [
    "# dump(X_train, 'X_train.joblib')\n",
    "# dump(X_val, 'X_val.joblib')\n",
    "# dump(Y_train, 'Y_train.joblib')\n",
    "# dump(Y_val, 'Y_val.joblib')"
   ]
  },
  {
   "cell_type": "code",
   "execution_count": 19,
   "id": "87a5aed4",
   "metadata": {},
   "outputs": [
    {
     "name": "stdout",
     "output_type": "stream",
     "text": [
      "41\n",
      "34\n"
     ]
    }
   ],
   "source": [
    "print(_features)\n",
    "print(n_classes)"
   ]
  },
  {
   "cell_type": "markdown",
   "id": "d9d296f9",
   "metadata": {},
   "source": [
    "Summary Table:\n",
    "<table>\n",
    "    <tr>\n",
    "        <th>Layer</th>\n",
    "        <th>Purpose</th>\n",
    "        <th>Key Params</th>\n",
    "    </tr>\n",
    "    <tr>\n",
    "        <td>Input</td>\n",
    "        <td>Define input shape</td>\n",
    "        <td>(_features, 1)</td>\n",
    "    </tr>\n",
    "    <tr>\n",
    "        <td>Conv1D</td>\n",
    "        <td>Learn local patterns (small)</td>\n",
    "        <td>256 filters, size 3</td>\n",
    "    </tr>\n",
    "    <tr>\n",
    "        <td>MaxPooling</td>\n",
    "        <td>Reduce data size, keep important info</td>\n",
    "        <td>pool size = 3</td>\n",
    "    </tr>\n",
    "    <tr>\n",
    "        <td>Conv1D</td>\n",
    "        <td>Deeper pattern extraction (compressed)</td>\n",
    "        <td>128 filters, size 3</td>\n",
    "    </tr>\n",
    "    <tr>\n",
    "        <td>UpSampling</td>\n",
    "        <td>Expand data back to larger size</td>\n",
    "        <td>size = 3</td>\n",
    "    </tr>\n",
    "    <tr>\n",
    "        <td>Conv1D</td>\n",
    "        <td>Refine expanded features</td>\n",
    "        <td>256 filters, size 3</td>\n",
    "    </tr>\n",
    "</table>\n",
    "In simple words:\n",
    "<div>It's like zooming into small parts, compressing them into important features, and then reconstructing useful information to make a classification later."
   ]
  },
  {
   "cell_type": "code",
   "execution_count": 20,
   "id": "66c11763",
   "metadata": {},
   "outputs": [],
   "source": [
    "# # CNN model\n",
    "# # Convolutional Encoder\n",
    "# input_img = Input(shape=(_features, 1)) # This defines the input shape of your model.\n",
    "#                                         # _features is the number of features (columns) in your data.\n",
    "#                                         # 1 means only 1 channel (like grayscale image instead of RGB).\n",
    "# # It tells the model: ➔ \"Expect input data shaped like (features, 1)\n",
    "\n",
    "# conv_1 = Convolution1D(256, 3, activation='relu')(input_img)  # Extract small patterns from the input (3 features wide), and learn 256 different kinds of patterns.\n",
    "# pool_1 = MaxPooling1D(3)(conv_1)    # Downsamples the feature map (makes it smaller and faster), while preserving important signals.\n",
    "\n",
    "# # Bottleneck\n",
    "# conv_2 = Convolution1D(128, 3, activation='relu')(pool_1)  # Further compress and extract deeper features from the downsampled signal.\n",
    "\n",
    "# # Decoder\n",
    "# up_1 = UpSampling1D(3)(conv_2)  # Recover some of the original data structure after compression.\n",
    "# conv_3 = Convolution1D(256, 3, activation='relu')(up_1)  # Refines the expanded feature map, helping recover meaningful patterns after upsampling."
   ]
  },
  {
   "cell_type": "code",
   "execution_count": 21,
   "id": "b279bab7",
   "metadata": {},
   "outputs": [],
   "source": [
    "# Classification\n",
    "# flatten = Flatten()(conv_3)\n",
    "\n",
    "# fc1 = Dense(256, activation='relu')(flatten)\n",
    "# do1 = Dropout(0.1)(fc1)\n",
    "\n",
    "# fc2 = Dense(128, activation='relu')(do1)\n",
    "# do2 = Dropout(0.1)(fc2)\n",
    "\n",
    "# fc3 = Dense(128, activation='relu')(do2)\n",
    "# do3 = Dropout(0.1)(fc3)\n",
    "\n",
    "# fc4 = Dense(n_classes, kernel_initializer='normal')(do3)\n",
    "\n",
    "# softmax = Dense(n_classes, activation='softmax', name='classification')(fc4)\n",
    "\n",
    "# model = Model(inputs=input_img, outputs=softmax)\n",
    "\n",
    "# model.summary()"
   ]
  },
  {
   "cell_type": "code",
   "execution_count": 22,
   "id": "9a4e136b",
   "metadata": {},
   "outputs": [],
   "source": [
    "model = Sequential([\n",
    "    layers.Input(shape=(_features, 1)),\n",
    "    layers.Conv1D(128, 3, activation='relu'),\n",
    "    layers.BatchNormalization(),\n",
    "    layers.MaxPooling1D(3),\n",
    "    layers.Conv1D(64, 3, activation='relu'),\n",
    "    layers.BatchNormalization(),\n",
    "    layers.UpSampling1D(3),\n",
    "    layers.Conv1D(128, 3, activation='relu'),\n",
    "    layers.Flatten(),\n",
    "    layers.Dense(256, activation='relu'),\n",
    "    layers.Dropout(0.1),\n",
    "    layers.Dense(128, activation='relu'),\n",
    "    layers.Dropout(0.1),\n",
    "    layers.Dense(128, activation='relu'),\n",
    "    layers.Dropout(0.1),\n",
    "    layers.Dense(n_classes, kernel_initializer='normal'),\n",
    "    layers.Dense(n_classes, activation='softmax', name='classification')\n",
    "])"
   ]
  },
  {
   "cell_type": "code",
   "execution_count": 23,
   "id": "ca11cef6",
   "metadata": {},
   "outputs": [
    {
     "name": "stdout",
     "output_type": "stream",
     "text": [
      "Model: \"sequential\"\n",
      "_________________________________________________________________\n",
      " Layer (type)                Output Shape              Param #   \n",
      "=================================================================\n",
      " conv1d (Conv1D)             (None, 39, 128)           512       \n",
      "                                                                 \n",
      " batch_normalization (BatchN  (None, 39, 128)          512       \n",
      " ormalization)                                                   \n",
      "                                                                 \n",
      " max_pooling1d (MaxPooling1D  (None, 13, 128)          0         \n",
      " )                                                               \n",
      "                                                                 \n",
      " conv1d_1 (Conv1D)           (None, 11, 64)            24640     \n",
      "                                                                 \n",
      " batch_normalization_1 (Batc  (None, 11, 64)           256       \n",
      " hNormalization)                                                 \n",
      "                                                                 \n",
      " up_sampling1d (UpSampling1D  (None, 33, 64)           0         \n",
      " )                                                               \n",
      "                                                                 \n",
      " conv1d_2 (Conv1D)           (None, 31, 128)           24704     \n",
      "                                                                 \n",
      " flatten (Flatten)           (None, 3968)              0         \n",
      "                                                                 \n",
      " dense (Dense)               (None, 256)               1016064   \n",
      "                                                                 \n",
      " dropout (Dropout)           (None, 256)               0         \n",
      "                                                                 \n",
      " dense_1 (Dense)             (None, 128)               32896     \n",
      "                                                                 \n",
      " dropout_1 (Dropout)         (None, 128)               0         \n",
      "                                                                 \n",
      " dense_2 (Dense)             (None, 128)               16512     \n",
      "                                                                 \n",
      " dropout_2 (Dropout)         (None, 128)               0         \n",
      "                                                                 \n",
      " dense_3 (Dense)             (None, 34)                4386      \n",
      "                                                                 \n",
      " classification (Dense)      (None, 34)                1190      \n",
      "                                                                 \n",
      "=================================================================\n",
      "Total params: 1,121,672\n",
      "Trainable params: 1,121,288\n",
      "Non-trainable params: 384\n",
      "_________________________________________________________________\n"
     ]
    }
   ],
   "source": [
    "model.summary()"
   ]
  },
  {
   "cell_type": "code",
   "execution_count": 24,
   "id": "b158b35b",
   "metadata": {},
   "outputs": [],
   "source": [
    "opt = tf.keras.optimizers.Adam(learning_rate=0.0001)\n",
    "model.compile(loss='categorical_crossentropy',optimizer=opt, metrics=['accuracy'])\n",
    "early_stop_callback = keras.callbacks.EarlyStopping(monitor='loss', patience=5)\n",
    "reduce_lr = keras.callbacks.ReduceLROnPlateau(monitor='val_loss', factor=0.2,\n",
    "                                  patience=3, min_lr=0.0001)"
   ]
  },
  {
   "cell_type": "code",
   "execution_count": 25,
   "id": "001631f4",
   "metadata": {},
   "outputs": [
    {
     "name": "stdout",
     "output_type": "stream",
     "text": [
      "249327/844092 [=======>......................] - ETA: 1:06:07 - loss: 0.4603 - accuracy: 0.7630"
     ]
    },
    {
     "ename": "KeyboardInterrupt",
     "evalue": "",
     "output_type": "error",
     "traceback": [
      "\u001b[1;31m---------------------------------------------------------------------------\u001b[0m",
      "\u001b[1;31mKeyboardInterrupt\u001b[0m                         Traceback (most recent call last)",
      "\u001b[1;32m~\\AppData\\Local\\Temp\\ipykernel_34084\\1614560590.py\u001b[0m in \u001b[0;36m<module>\u001b[1;34m\u001b[0m\n\u001b[0;32m      1\u001b[0m \u001b[0mstart_fit\u001b[0m \u001b[1;33m=\u001b[0m \u001b[0mtime\u001b[0m\u001b[1;33m.\u001b[0m\u001b[0mtime\u001b[0m\u001b[1;33m(\u001b[0m\u001b[1;33m)\u001b[0m\u001b[1;33m\u001b[0m\u001b[1;33m\u001b[0m\u001b[0m\n\u001b[1;32m----> 2\u001b[1;33m history = model.fit(X_train, Y_train,\n\u001b[0m\u001b[0;32m      3\u001b[0m                               \u001b[0mbatch_size\u001b[0m\u001b[1;33m=\u001b[0m\u001b[1;36m32\u001b[0m\u001b[1;33m,\u001b[0m\u001b[1;33m\u001b[0m\u001b[1;33m\u001b[0m\u001b[0m\n\u001b[0;32m      4\u001b[0m                               \u001b[0mepochs\u001b[0m\u001b[1;33m=\u001b[0m\u001b[1;36m1\u001b[0m\u001b[1;33m,\u001b[0m\u001b[1;33m\u001b[0m\u001b[1;33m\u001b[0m\u001b[0m\n\u001b[0;32m      5\u001b[0m                               \u001b[0mverbose\u001b[0m\u001b[1;33m=\u001b[0m\u001b[1;32mTrue\u001b[0m\u001b[1;33m,\u001b[0m\u001b[1;33m\u001b[0m\u001b[1;33m\u001b[0m\u001b[0m\n",
      "\u001b[1;32mc:\\Users\\ADMIN\\anaconda3\\lib\\site-packages\\keras\\utils\\traceback_utils.py\u001b[0m in \u001b[0;36merror_handler\u001b[1;34m(*args, **kwargs)\u001b[0m\n\u001b[0;32m     63\u001b[0m         \u001b[0mfiltered_tb\u001b[0m \u001b[1;33m=\u001b[0m \u001b[1;32mNone\u001b[0m\u001b[1;33m\u001b[0m\u001b[1;33m\u001b[0m\u001b[0m\n\u001b[0;32m     64\u001b[0m         \u001b[1;32mtry\u001b[0m\u001b[1;33m:\u001b[0m\u001b[1;33m\u001b[0m\u001b[1;33m\u001b[0m\u001b[0m\n\u001b[1;32m---> 65\u001b[1;33m             \u001b[1;32mreturn\u001b[0m \u001b[0mfn\u001b[0m\u001b[1;33m(\u001b[0m\u001b[1;33m*\u001b[0m\u001b[0margs\u001b[0m\u001b[1;33m,\u001b[0m \u001b[1;33m**\u001b[0m\u001b[0mkwargs\u001b[0m\u001b[1;33m)\u001b[0m\u001b[1;33m\u001b[0m\u001b[1;33m\u001b[0m\u001b[0m\n\u001b[0m\u001b[0;32m     66\u001b[0m         \u001b[1;32mexcept\u001b[0m \u001b[0mException\u001b[0m \u001b[1;32mas\u001b[0m \u001b[0me\u001b[0m\u001b[1;33m:\u001b[0m\u001b[1;33m\u001b[0m\u001b[1;33m\u001b[0m\u001b[0m\n\u001b[0;32m     67\u001b[0m             \u001b[0mfiltered_tb\u001b[0m \u001b[1;33m=\u001b[0m \u001b[0m_process_traceback_frames\u001b[0m\u001b[1;33m(\u001b[0m\u001b[0me\u001b[0m\u001b[1;33m.\u001b[0m\u001b[0m__traceback__\u001b[0m\u001b[1;33m)\u001b[0m\u001b[1;33m\u001b[0m\u001b[1;33m\u001b[0m\u001b[0m\n",
      "\u001b[1;32mc:\\Users\\ADMIN\\anaconda3\\lib\\site-packages\\keras\\engine\\training.py\u001b[0m in \u001b[0;36mfit\u001b[1;34m(self, x, y, batch_size, epochs, verbose, callbacks, validation_split, validation_data, shuffle, class_weight, sample_weight, initial_epoch, steps_per_epoch, validation_steps, validation_batch_size, validation_freq, max_queue_size, workers, use_multiprocessing)\u001b[0m\n\u001b[0;32m   1562\u001b[0m                         ):\n\u001b[0;32m   1563\u001b[0m                             \u001b[0mcallbacks\u001b[0m\u001b[1;33m.\u001b[0m\u001b[0mon_train_batch_begin\u001b[0m\u001b[1;33m(\u001b[0m\u001b[0mstep\u001b[0m\u001b[1;33m)\u001b[0m\u001b[1;33m\u001b[0m\u001b[1;33m\u001b[0m\u001b[0m\n\u001b[1;32m-> 1564\u001b[1;33m                             \u001b[0mtmp_logs\u001b[0m \u001b[1;33m=\u001b[0m \u001b[0mself\u001b[0m\u001b[1;33m.\u001b[0m\u001b[0mtrain_function\u001b[0m\u001b[1;33m(\u001b[0m\u001b[0miterator\u001b[0m\u001b[1;33m)\u001b[0m\u001b[1;33m\u001b[0m\u001b[1;33m\u001b[0m\u001b[0m\n\u001b[0m\u001b[0;32m   1565\u001b[0m                             \u001b[1;32mif\u001b[0m \u001b[0mdata_handler\u001b[0m\u001b[1;33m.\u001b[0m\u001b[0mshould_sync\u001b[0m\u001b[1;33m:\u001b[0m\u001b[1;33m\u001b[0m\u001b[1;33m\u001b[0m\u001b[0m\n\u001b[0;32m   1566\u001b[0m                                 \u001b[0mcontext\u001b[0m\u001b[1;33m.\u001b[0m\u001b[0masync_wait\u001b[0m\u001b[1;33m(\u001b[0m\u001b[1;33m)\u001b[0m\u001b[1;33m\u001b[0m\u001b[1;33m\u001b[0m\u001b[0m\n",
      "\u001b[1;32mc:\\Users\\ADMIN\\anaconda3\\lib\\site-packages\\tensorflow\\python\\util\\traceback_utils.py\u001b[0m in \u001b[0;36merror_handler\u001b[1;34m(*args, **kwargs)\u001b[0m\n\u001b[0;32m    148\u001b[0m     \u001b[0mfiltered_tb\u001b[0m \u001b[1;33m=\u001b[0m \u001b[1;32mNone\u001b[0m\u001b[1;33m\u001b[0m\u001b[1;33m\u001b[0m\u001b[0m\n\u001b[0;32m    149\u001b[0m     \u001b[1;32mtry\u001b[0m\u001b[1;33m:\u001b[0m\u001b[1;33m\u001b[0m\u001b[1;33m\u001b[0m\u001b[0m\n\u001b[1;32m--> 150\u001b[1;33m       \u001b[1;32mreturn\u001b[0m \u001b[0mfn\u001b[0m\u001b[1;33m(\u001b[0m\u001b[1;33m*\u001b[0m\u001b[0margs\u001b[0m\u001b[1;33m,\u001b[0m \u001b[1;33m**\u001b[0m\u001b[0mkwargs\u001b[0m\u001b[1;33m)\u001b[0m\u001b[1;33m\u001b[0m\u001b[1;33m\u001b[0m\u001b[0m\n\u001b[0m\u001b[0;32m    151\u001b[0m     \u001b[1;32mexcept\u001b[0m \u001b[0mException\u001b[0m \u001b[1;32mas\u001b[0m \u001b[0me\u001b[0m\u001b[1;33m:\u001b[0m\u001b[1;33m\u001b[0m\u001b[1;33m\u001b[0m\u001b[0m\n\u001b[0;32m    152\u001b[0m       \u001b[0mfiltered_tb\u001b[0m \u001b[1;33m=\u001b[0m \u001b[0m_process_traceback_frames\u001b[0m\u001b[1;33m(\u001b[0m\u001b[0me\u001b[0m\u001b[1;33m.\u001b[0m\u001b[0m__traceback__\u001b[0m\u001b[1;33m)\u001b[0m\u001b[1;33m\u001b[0m\u001b[1;33m\u001b[0m\u001b[0m\n",
      "\u001b[1;32mc:\\Users\\ADMIN\\anaconda3\\lib\\site-packages\\tensorflow\\python\\eager\\def_function.py\u001b[0m in \u001b[0;36m__call__\u001b[1;34m(self, *args, **kwds)\u001b[0m\n\u001b[0;32m    913\u001b[0m \u001b[1;33m\u001b[0m\u001b[0m\n\u001b[0;32m    914\u001b[0m       \u001b[1;32mwith\u001b[0m \u001b[0mOptionalXlaContext\u001b[0m\u001b[1;33m(\u001b[0m\u001b[0mself\u001b[0m\u001b[1;33m.\u001b[0m\u001b[0m_jit_compile\u001b[0m\u001b[1;33m)\u001b[0m\u001b[1;33m:\u001b[0m\u001b[1;33m\u001b[0m\u001b[1;33m\u001b[0m\u001b[0m\n\u001b[1;32m--> 915\u001b[1;33m         \u001b[0mresult\u001b[0m \u001b[1;33m=\u001b[0m \u001b[0mself\u001b[0m\u001b[1;33m.\u001b[0m\u001b[0m_call\u001b[0m\u001b[1;33m(\u001b[0m\u001b[1;33m*\u001b[0m\u001b[0margs\u001b[0m\u001b[1;33m,\u001b[0m \u001b[1;33m**\u001b[0m\u001b[0mkwds\u001b[0m\u001b[1;33m)\u001b[0m\u001b[1;33m\u001b[0m\u001b[1;33m\u001b[0m\u001b[0m\n\u001b[0m\u001b[0;32m    916\u001b[0m \u001b[1;33m\u001b[0m\u001b[0m\n\u001b[0;32m    917\u001b[0m       \u001b[0mnew_tracing_count\u001b[0m \u001b[1;33m=\u001b[0m \u001b[0mself\u001b[0m\u001b[1;33m.\u001b[0m\u001b[0mexperimental_get_tracing_count\u001b[0m\u001b[1;33m(\u001b[0m\u001b[1;33m)\u001b[0m\u001b[1;33m\u001b[0m\u001b[1;33m\u001b[0m\u001b[0m\n",
      "\u001b[1;32mc:\\Users\\ADMIN\\anaconda3\\lib\\site-packages\\tensorflow\\python\\eager\\def_function.py\u001b[0m in \u001b[0;36m_call\u001b[1;34m(self, *args, **kwds)\u001b[0m\n\u001b[0;32m    945\u001b[0m       \u001b[1;31m# In this case we have created variables on the first call, so we run the\u001b[0m\u001b[1;33m\u001b[0m\u001b[1;33m\u001b[0m\u001b[1;33m\u001b[0m\u001b[0m\n\u001b[0;32m    946\u001b[0m       \u001b[1;31m# defunned version which is guaranteed to never create variables.\u001b[0m\u001b[1;33m\u001b[0m\u001b[1;33m\u001b[0m\u001b[1;33m\u001b[0m\u001b[0m\n\u001b[1;32m--> 947\u001b[1;33m       \u001b[1;32mreturn\u001b[0m \u001b[0mself\u001b[0m\u001b[1;33m.\u001b[0m\u001b[0m_stateless_fn\u001b[0m\u001b[1;33m(\u001b[0m\u001b[1;33m*\u001b[0m\u001b[0margs\u001b[0m\u001b[1;33m,\u001b[0m \u001b[1;33m**\u001b[0m\u001b[0mkwds\u001b[0m\u001b[1;33m)\u001b[0m  \u001b[1;31m# pylint: disable=not-callable\u001b[0m\u001b[1;33m\u001b[0m\u001b[1;33m\u001b[0m\u001b[0m\n\u001b[0m\u001b[0;32m    948\u001b[0m     \u001b[1;32melif\u001b[0m \u001b[0mself\u001b[0m\u001b[1;33m.\u001b[0m\u001b[0m_stateful_fn\u001b[0m \u001b[1;32mis\u001b[0m \u001b[1;32mnot\u001b[0m \u001b[1;32mNone\u001b[0m\u001b[1;33m:\u001b[0m\u001b[1;33m\u001b[0m\u001b[1;33m\u001b[0m\u001b[0m\n\u001b[0;32m    949\u001b[0m       \u001b[1;31m# Release the lock early so that multiple threads can perform the call\u001b[0m\u001b[1;33m\u001b[0m\u001b[1;33m\u001b[0m\u001b[1;33m\u001b[0m\u001b[0m\n",
      "\u001b[1;32mc:\\Users\\ADMIN\\anaconda3\\lib\\site-packages\\tensorflow\\python\\eager\\function.py\u001b[0m in \u001b[0;36m__call__\u001b[1;34m(self, *args, **kwargs)\u001b[0m\n\u001b[0;32m   2494\u001b[0m       (graph_function,\n\u001b[0;32m   2495\u001b[0m        filtered_flat_args) = self._maybe_define_function(args, kwargs)\n\u001b[1;32m-> 2496\u001b[1;33m     return graph_function._call_flat(\n\u001b[0m\u001b[0;32m   2497\u001b[0m         filtered_flat_args, captured_inputs=graph_function.captured_inputs)  # pylint: disable=protected-access\n\u001b[0;32m   2498\u001b[0m \u001b[1;33m\u001b[0m\u001b[0m\n",
      "\u001b[1;32mc:\\Users\\ADMIN\\anaconda3\\lib\\site-packages\\tensorflow\\python\\eager\\function.py\u001b[0m in \u001b[0;36m_call_flat\u001b[1;34m(self, args, captured_inputs, cancellation_manager)\u001b[0m\n\u001b[0;32m   1860\u001b[0m         and executing_eagerly):\n\u001b[0;32m   1861\u001b[0m       \u001b[1;31m# No tape is watching; skip to running the function.\u001b[0m\u001b[1;33m\u001b[0m\u001b[1;33m\u001b[0m\u001b[1;33m\u001b[0m\u001b[0m\n\u001b[1;32m-> 1862\u001b[1;33m       return self._build_call_outputs(self._inference_function.call(\n\u001b[0m\u001b[0;32m   1863\u001b[0m           ctx, args, cancellation_manager=cancellation_manager))\n\u001b[0;32m   1864\u001b[0m     forward_backward = self._select_forward_and_backward_functions(\n",
      "\u001b[1;32mc:\\Users\\ADMIN\\anaconda3\\lib\\site-packages\\tensorflow\\python\\eager\\function.py\u001b[0m in \u001b[0;36mcall\u001b[1;34m(self, ctx, args, cancellation_manager)\u001b[0m\n\u001b[0;32m    497\u001b[0m       \u001b[1;32mwith\u001b[0m \u001b[0m_InterpolateFunctionError\u001b[0m\u001b[1;33m(\u001b[0m\u001b[0mself\u001b[0m\u001b[1;33m)\u001b[0m\u001b[1;33m:\u001b[0m\u001b[1;33m\u001b[0m\u001b[1;33m\u001b[0m\u001b[0m\n\u001b[0;32m    498\u001b[0m         \u001b[1;32mif\u001b[0m \u001b[0mcancellation_manager\u001b[0m \u001b[1;32mis\u001b[0m \u001b[1;32mNone\u001b[0m\u001b[1;33m:\u001b[0m\u001b[1;33m\u001b[0m\u001b[1;33m\u001b[0m\u001b[0m\n\u001b[1;32m--> 499\u001b[1;33m           outputs = execute.execute(\n\u001b[0m\u001b[0;32m    500\u001b[0m               \u001b[0mstr\u001b[0m\u001b[1;33m(\u001b[0m\u001b[0mself\u001b[0m\u001b[1;33m.\u001b[0m\u001b[0msignature\u001b[0m\u001b[1;33m.\u001b[0m\u001b[0mname\u001b[0m\u001b[1;33m)\u001b[0m\u001b[1;33m,\u001b[0m\u001b[1;33m\u001b[0m\u001b[1;33m\u001b[0m\u001b[0m\n\u001b[0;32m    501\u001b[0m               \u001b[0mnum_outputs\u001b[0m\u001b[1;33m=\u001b[0m\u001b[0mself\u001b[0m\u001b[1;33m.\u001b[0m\u001b[0m_num_outputs\u001b[0m\u001b[1;33m,\u001b[0m\u001b[1;33m\u001b[0m\u001b[1;33m\u001b[0m\u001b[0m\n",
      "\u001b[1;32mc:\\Users\\ADMIN\\anaconda3\\lib\\site-packages\\tensorflow\\python\\eager\\execute.py\u001b[0m in \u001b[0;36mquick_execute\u001b[1;34m(op_name, num_outputs, inputs, attrs, ctx, name)\u001b[0m\n\u001b[0;32m     52\u001b[0m   \u001b[1;32mtry\u001b[0m\u001b[1;33m:\u001b[0m\u001b[1;33m\u001b[0m\u001b[1;33m\u001b[0m\u001b[0m\n\u001b[0;32m     53\u001b[0m     \u001b[0mctx\u001b[0m\u001b[1;33m.\u001b[0m\u001b[0mensure_initialized\u001b[0m\u001b[1;33m(\u001b[0m\u001b[1;33m)\u001b[0m\u001b[1;33m\u001b[0m\u001b[1;33m\u001b[0m\u001b[0m\n\u001b[1;32m---> 54\u001b[1;33m     tensors = pywrap_tfe.TFE_Py_Execute(ctx._handle, device_name, op_name,\n\u001b[0m\u001b[0;32m     55\u001b[0m                                         inputs, attrs, num_outputs)\n\u001b[0;32m     56\u001b[0m   \u001b[1;32mexcept\u001b[0m \u001b[0mcore\u001b[0m\u001b[1;33m.\u001b[0m\u001b[0m_NotOkStatusException\u001b[0m \u001b[1;32mas\u001b[0m \u001b[0me\u001b[0m\u001b[1;33m:\u001b[0m\u001b[1;33m\u001b[0m\u001b[1;33m\u001b[0m\u001b[0m\n",
      "\u001b[1;31mKeyboardInterrupt\u001b[0m: "
     ]
    }
   ],
   "source": [
    "start_fit = time.time()\n",
    "history = model.fit(X_train, Y_train,\n",
    "                              batch_size=32,\n",
    "                              epochs=1,\n",
    "                              verbose=True,\n",
    "                              validation_data=(X_val, Y_val))    \n",
    "\n",
    "end_fit = time.time()\n",
    "fit_time = end_fit - start_fit\n",
    "print(\"fit time: {:.2f} seconds\".format(fit_time))  "
   ]
  },
  {
   "cell_type": "code",
   "execution_count": null,
   "id": "535da81b",
   "metadata": {},
   "outputs": [
    {
     "data": {
      "text/plain": [
       "array([['Start time', 'End time', 'Fitting time'],\n",
       "       ['1745929175.3331525', '1745933899.212349', '4723.879196405411']],\n",
       "      dtype='<U32')"
      ]
     },
     "execution_count": 18,
     "metadata": {},
     "output_type": "execute_result"
    }
   ],
   "source": [
    "fitting_time_np = np.array([['Start time', 'End time', 'Fitting time'],\n",
    "                            [start_fit, end_fit, fit_time]])\n",
    "\n",
    "fitting_time_np"
   ]
  },
  {
   "cell_type": "markdown",
   "id": "b3212125",
   "metadata": {},
   "source": [
    "## Export model and LabelEncoder"
   ]
  },
  {
   "cell_type": "code",
   "execution_count": 1,
   "id": "cc749b92",
   "metadata": {},
   "outputs": [],
   "source": [
    "from keras.models import load_model"
   ]
  },
  {
   "cell_type": "code",
   "execution_count": null,
   "id": "0293f110",
   "metadata": {},
   "outputs": [],
   "source": [
    "model.save(\"CNN_model.keras\")"
   ]
  },
  {
   "cell_type": "code",
   "execution_count": null,
   "id": "4cd2b366",
   "metadata": {},
   "outputs": [
    {
     "ename": "ImportError",
     "evalue": "Filepath looks like a hdf5 file but h5py is not available. filepath=CNN_model.keras",
     "output_type": "error",
     "traceback": [
      "\u001b[1;31m---------------------------------------------------------------------------\u001b[0m",
      "\u001b[1;31mImportError\u001b[0m                               Traceback (most recent call last)",
      "\u001b[1;32m~\\AppData\\Local\\Temp\\ipykernel_34084\\916951941.py\u001b[0m in \u001b[0;36m<module>\u001b[1;34m\u001b[0m\n\u001b[1;32m----> 1\u001b[1;33m \u001b[0mmodel\u001b[0m \u001b[1;33m=\u001b[0m \u001b[0mload_model\u001b[0m\u001b[1;33m(\u001b[0m\u001b[1;34m\"CNN_model.keras\"\u001b[0m\u001b[1;33m)\u001b[0m\u001b[1;33m\u001b[0m\u001b[1;33m\u001b[0m\u001b[0m\n\u001b[0m",
      "\u001b[1;32mc:\\Users\\ADMIN\\anaconda3\\lib\\site-packages\\keras\\utils\\traceback_utils.py\u001b[0m in \u001b[0;36merror_handler\u001b[1;34m(*args, **kwargs)\u001b[0m\n\u001b[0;32m     68\u001b[0m             \u001b[1;31m# To get the full stack trace, call:\u001b[0m\u001b[1;33m\u001b[0m\u001b[1;33m\u001b[0m\u001b[1;33m\u001b[0m\u001b[0m\n\u001b[0;32m     69\u001b[0m             \u001b[1;31m# `tf.debugging.disable_traceback_filtering()`\u001b[0m\u001b[1;33m\u001b[0m\u001b[1;33m\u001b[0m\u001b[1;33m\u001b[0m\u001b[0m\n\u001b[1;32m---> 70\u001b[1;33m             \u001b[1;32mraise\u001b[0m \u001b[0me\u001b[0m\u001b[1;33m.\u001b[0m\u001b[0mwith_traceback\u001b[0m\u001b[1;33m(\u001b[0m\u001b[0mfiltered_tb\u001b[0m\u001b[1;33m)\u001b[0m \u001b[1;32mfrom\u001b[0m \u001b[1;32mNone\u001b[0m\u001b[1;33m\u001b[0m\u001b[1;33m\u001b[0m\u001b[0m\n\u001b[0m\u001b[0;32m     71\u001b[0m         \u001b[1;32mfinally\u001b[0m\u001b[1;33m:\u001b[0m\u001b[1;33m\u001b[0m\u001b[1;33m\u001b[0m\u001b[0m\n\u001b[0;32m     72\u001b[0m             \u001b[1;32mdel\u001b[0m \u001b[0mfiltered_tb\u001b[0m\u001b[1;33m\u001b[0m\u001b[1;33m\u001b[0m\u001b[0m\n",
      "\u001b[1;32mc:\\Users\\ADMIN\\anaconda3\\lib\\site-packages\\keras\\saving\\save.py\u001b[0m in \u001b[0;36mload_model\u001b[1;34m(filepath, custom_objects, compile, options)\u001b[0m\n\u001b[0;32m    234\u001b[0m                     \u001b[1;32melse\u001b[0m\u001b[1;33m:\u001b[0m\u001b[1;33m\u001b[0m\u001b[1;33m\u001b[0m\u001b[0m\n\u001b[0;32m    235\u001b[0m                         \u001b[1;32mif\u001b[0m \u001b[0mh5py\u001b[0m \u001b[1;32mis\u001b[0m \u001b[1;32mNone\u001b[0m\u001b[1;33m:\u001b[0m\u001b[1;33m\u001b[0m\u001b[1;33m\u001b[0m\u001b[0m\n\u001b[1;32m--> 236\u001b[1;33m                             raise ImportError(\n\u001b[0m\u001b[0;32m    237\u001b[0m                                 \u001b[1;34m\"Filepath looks like a hdf5 file but h5py is \"\u001b[0m\u001b[1;33m\u001b[0m\u001b[1;33m\u001b[0m\u001b[0m\n\u001b[0;32m    238\u001b[0m                                 \u001b[1;34m\"not available.\"\u001b[0m\u001b[1;33m\u001b[0m\u001b[1;33m\u001b[0m\u001b[0m\n",
      "\u001b[1;31mImportError\u001b[0m: Filepath looks like a hdf5 file but h5py is not available. filepath=CNN_model.keras"
     ]
    }
   ],
   "source": [
    "model = load_model(\"CNN_model.keras\")"
   ]
  },
  {
   "cell_type": "code",
   "execution_count": null,
   "id": "6b451f07",
   "metadata": {},
   "outputs": [],
   "source": [
    "import pickle\n",
    "\n",
    "with open(\"label_encoder.pkl\", \"wb\") as f:\n",
    "    pickle.dump(labelencoder, f)"
   ]
  },
  {
   "cell_type": "code",
   "execution_count": null,
   "id": "51abebae",
   "metadata": {},
   "outputs": [],
   "source": [
    "with open(\"label_encoder.pkl\", \"rb\") as f:\n",
    "    labelencoder = pickle.load(f)"
   ]
  },
  {
   "cell_type": "code",
   "execution_count": null,
   "id": "63805a13",
   "metadata": {},
   "outputs": [
    {
     "name": "stdout",
     "output_type": "stream",
     "text": [
      "\u001b[1m1/1\u001b[0m \u001b[32m━━━━━━━━━━━━━━━━━━━━\u001b[0m\u001b[37m\u001b[0m \u001b[1m0s\u001b[0m 15ms/step\n",
      "Predicted class label: DDOS-ICMP_FLOOD\n",
      "DDOS-RSTFINFLOOD\n"
     ]
    }
   ],
   "source": [
    "# test model\n",
    "# print(X_test[0])\n",
    "segment = X_test[1233]\n",
    "test_data = segment.reshape(1, _features, 1).astype('float32')\n",
    "\n",
    "### How to use labelencoder\n",
    "pred = model.predict(test_data)\n",
    "predicted_class = np.argmax(pred)\n",
    "original_label = labelencoder.inverse_transform([predicted_class])[0]\n",
    "print(\"Predicted class label:\", original_label)\n",
    "original_real_label = labelencoder.inverse_transform([np.argmax(Y_test[1233])])[0]\n",
    "print(original_real_label)"
   ]
  },
  {
   "cell_type": "code",
   "execution_count": null,
   "id": "1bef4c25",
   "metadata": {},
   "outputs": [],
   "source": [
    "# Plot for training and validation loss\n",
    "history_dict = history.history\n",
    "loss_values = history_dict['loss']\n",
    "val_loss_values = history_dict['val_loss']\n",
    "acc = history_dict['accuracy']\n",
    "val_acc = history_dict['val_accuracy']\n",
    "start_by_epoch = 1\n",
    "epochs = range(start_by_epoch, len(loss_values) + 1)"
   ]
  },
  {
   "cell_type": "code",
   "execution_count": null,
   "id": "0986e20f",
   "metadata": {},
   "outputs": [
    {
     "data": {
      "image/png": "[encoded data removed]",
      "text/plain": [
       "<Figure size 640x480 with 1 Axes>"
      ]
     },
     "metadata": {},
     "output_type": "display_data"
    },
    {
     "data": {
      "text/plain": [
       "<Figure size 640x480 with 0 Axes>"
      ]
     },
     "metadata": {},
     "output_type": "display_data"
    }
   ],
   "source": [
    "# Exploratory data analysis\n",
    "# plt.plot(epochs, acc[start_by_epoch-1:], label='Training accuracy', marker='x', markersize=2.5, mew=0.4, linewidth=0.8)\n",
    "# plt.plot(epochs, val_acc[start_by_epoch-1:], label='Validation accuracy', marker='x', markersize=2.5, mew=0.4, linewidth=0.8)\n",
    "# plt.xlabel('Epochs')\n",
    "# plt.ylabel('Accuracy')\n",
    "# plt.legend(['Training', 'Validation'], loc='lower right')\n",
    "# plt.grid()\n",
    "# ax = plt.gca()\n",
    "# plt.tight_layout()\n",
    "# ax.spines['bottom'].set_visible(False)\n",
    "# ax.spines['top'].set_visible(False)\n",
    "# ax.spines['left'].set_visible(False)\n",
    "# ax.spines['right'].set_visible(False)\n",
    "# plt.ylim(0.97,1)\n",
    "# # plt.savefig('[CICIoT2023] [CNN] Multiclass classification accuracy.eps', format='eps', dpi=1200)\n",
    "# plt.show()\n",
    "# plt.clf()"
   ]
  },
  {
   "cell_type": "code",
   "execution_count": null,
   "id": "bc7cc0a3",
   "metadata": {},
   "outputs": [
    {
     "data": {
      "image/png": "[encoded data removed]",
      "text/plain": [
       "<Figure size 800x800 with 2 Axes>"
      ]
     },
     "metadata": {},
     "output_type": "display_data"
    }
   ],
   "source": [
    "# plt.figure(figsize=(8, 8))\n",
    "# plt.subplot(1, 2, 1)\n",
    "# plt.plot(epochs, acc, label='Training Accuracy')\n",
    "# plt.plot(epochs, val_acc, label='Validation Accuracy')\n",
    "# plt.legend(loc='lower right')\n",
    "# plt.title('Training and Validation Accuracy')\n",
    "\n",
    "# plt.subplot(1, 2, 2)\n",
    "# plt.plot(epochs, loss_values, label='Training Loss')\n",
    "# plt.plot(epochs, val_loss_values, label='Validation Loss')\n",
    "# plt.legend(loc='upper right')\n",
    "# plt.title('Training and Validation Loss')\n",
    "# plt.show()"
   ]
  },
  {
   "cell_type": "code",
   "execution_count": null,
   "id": "eea209cb",
   "metadata": {},
   "outputs": [
    {
     "data": {
      "image/png": "[encoded data removed]",
      "text/plain": [
       "<Figure size 640x480 with 1 Axes>"
      ]
     },
     "metadata": {},
     "output_type": "display_data"
    },
    {
     "data": {
      "text/plain": [
       "<Figure size 640x480 with 0 Axes>"
      ]
     },
     "metadata": {},
     "output_type": "display_data"
    }
   ],
   "source": [
    "plt.plot(epochs, loss_values[start_by_epoch-1:], label='Training Loss', marker='x', markersize=2.5, mew=0.4, linewidth=0.8)\n",
    "plt.plot(epochs, val_loss_values[start_by_epoch-1:], label='Validation Loss', marker='x', markersize=2.5, mew=0.4, linewidth=0.8)\n",
    "plt.xlabel('Epochs')\n",
    "plt.ylabel('Loss')\n",
    "plt.legend(['Training', 'Validation'], loc='upper right')\n",
    "plt.grid()\n",
    "ax = plt.gca()\n",
    "plt.tight_layout()\n",
    "ax.spines['bottom'].set_visible(False)\n",
    "ax.spines['top'].set_visible(False)\n",
    "ax.spines['left'].set_visible(False)\n",
    "ax.spines['right'].set_visible(False)\n",
    "plt.ylim(0,0.07)\n",
    "# plt.savefig('D:/results/CICIoT2023/figures/[CICIoT2023] [CNN] Multiclass classification loss.eps', format='eps', dpi=1200)\n",
    "plt.show()\n",
    "plt.clf()"
   ]
  },
  {
   "cell_type": "code",
   "execution_count": null,
   "id": "03fd4a31",
   "metadata": {},
   "outputs": [
    {
     "ename": "NameError",
     "evalue": "name 'X_val' is not defined",
     "output_type": "error",
     "traceback": [
      "\u001b[1;31m---------------------------------------------------------------------------\u001b[0m",
      "\u001b[1;31mNameError\u001b[0m                                 Traceback (most recent call last)",
      "Cell \u001b[1;32mIn[37], line 2\u001b[0m\n\u001b[0;32m      1\u001b[0m start_time \u001b[38;5;241m=\u001b[39m time\u001b[38;5;241m.\u001b[39mtime()\n\u001b[1;32m----> 2\u001b[0m pred \u001b[38;5;241m=\u001b[39m model\u001b[38;5;241m.\u001b[39mpredict(X_val)\n\u001b[0;32m      3\u001b[0m end_time \u001b[38;5;241m=\u001b[39m time\u001b[38;5;241m.\u001b[39mtime()\n\u001b[0;32m      5\u001b[0m inference_time \u001b[38;5;241m=\u001b[39m end_time \u001b[38;5;241m-\u001b[39m start_time\n",
      "\u001b[1;31mNameError\u001b[0m: name 'X_val' is not defined"
     ]
    }
   ],
   "source": [
    "start_time = time.time()\n",
    "pred = model.predict(X_val)\n",
    "end_time = time.time()\n",
    "\n",
    "inference_time = end_time - start_time\n",
    "print(\"Inference time: {:.2f} seconds\".format(inference_time))\n",
    "\n",
    "inference_time_np = np.array([['Start time', 'End time', 'Inference time'],\n",
    "                            [start_time, end_time, inference_time]])"
   ]
  },
  {
   "cell_type": "code",
   "execution_count": null,
   "id": "781c287d",
   "metadata": {},
   "outputs": [
    {
     "name": "stdout",
     "output_type": "stream",
     "text": [
      "(9003649,)\n",
      "(9003649,)\n"
     ]
    },
    {
     "name": "stderr",
     "output_type": "stream",
     "text": [
      "c:\\Users\\ADMIN\\anaconda3\\Lib\\site-packages\\sklearn\\metrics\\_classification.py:1344: UndefinedMetricWarning: Precision is ill-defined and being set to 0.0 in labels with no predicted samples. Use `zero_division` parameter to control this behavior.\n",
      "  _warn_prf(average, modifier, msg_start, len(result))\n",
      "c:\\Users\\ADMIN\\anaconda3\\Lib\\site-packages\\sklearn\\metrics\\_classification.py:1344: UndefinedMetricWarning: Precision is ill-defined and being set to 0.0 in labels with no predicted samples. Use `zero_division` parameter to control this behavior.\n",
      "  _warn_prf(average, modifier, msg_start, len(result))\n"
     ]
    },
    {
     "name": "stdout",
     "output_type": "stream",
     "text": [
      "Validation score: 0.7803431697526192\n",
      "Recall score: 0.7803431697526192\n",
      "Precision score: 0.7889050283393315\n",
      "Precision score macro: 0.6736301267567226\n",
      "F1 Measure score: 0.76232291330802\n"
     ]
    }
   ],
   "source": [
    "# Convert predictions classes to one hot vectors \n",
    "pred = np.argmax(pred,axis=1)\n",
    "# Convert validation observations to one hot vectors\n",
    "y_test = Y_test.argmax(axis=1)\n",
    "\n",
    "print(pred.shape)\n",
    "print(y_test.shape)\n",
    "\n",
    "score = metrics.accuracy_score(y_test, pred)\n",
    "rscore = recall_score(y_test, pred, average='weighted')\n",
    "ascore = precision_score(y_test, pred, average='weighted')\n",
    "ascore_macro = precision_score(y_test, pred, average='macro')\n",
    "f1score= f1_score(y_test, pred, average='weighted') #F1 = 2 * (precision * recall) / (precision + recall) for manual\n",
    "\n",
    "print(\"Validation score: {}\".format(score))\n",
    "print(\"Recall score: {}\".format(rscore))\n",
    "print(\"Precision score: {}\".format(ascore))\n",
    "print(\"Precision score macro: {}\".format(ascore_macro))\n",
    "print(\"F1 Measure score: {}\".format(f1score))"
   ]
  }
 ],
 "metadata": {
  "kernelspec": {
   "display_name": "base",
   "language": "python",
   "name": "python3"
  },
  "language_info": {
   "codemirror_mode": {
    "name": "ipython",
    "version": 3
   },
   "file_extension": ".py",
   "mimetype": "text/x-python",
   "name": "python",
   "nbconvert_exporter": "python",
   "pygments_lexer": "ipython3",
   "version": "3.9.0"
  }
 },
 "nbformat": 4,
 "nbformat_minor": 5
}
